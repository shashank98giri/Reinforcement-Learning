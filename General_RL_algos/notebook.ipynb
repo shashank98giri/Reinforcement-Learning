{
 "cells": [
  {
   "cell_type": "code",
   "execution_count": 1,
   "metadata": {},
   "outputs": [
    {
     "data": {
      "image/png": "[encoded data removed]",
      "text/plain": [
       "<matplotlib.figure.Figure at 0x7f3ce44bd978>"
      ]
     },
     "metadata": {},
     "output_type": "display_data"
    },
    {
     "data": {
      "text/plain": [
       "array([[ 0.        , -5.1411674 , -7.17285987, -7.7413128 ],\n",
       "       [-5.12321528, -7.20448809, -7.3827336 , -7.30937349],\n",
       "       [-7.11098526, -7.31342516, -6.68419683, -5.61145717],\n",
       "       [-7.61533761, -7.06312063, -4.95830354,  0.        ]])"
      ]
     },
     "execution_count": 1,
     "metadata": {},
     "output_type": "execute_result"
    }
   ],
   "source": [
    "import mdp\n",
    "import numpy as np\n",
    "import plotting\n",
    "\n",
    "def policy_eval_two_arrays():\n",
    "    state_count=mdp.get_state_count()\n",
    "    gamma=0.9\n",
    "    theta=0.001 ##minimum value of delta\n",
    "    delta_values=[]\n",
    "    V = state_count*[0]\n",
    "    while(True):\n",
    "        delta=0\n",
    "        V_t1=state_count*[0]\n",
    "        for state in range(state_count):\n",
    "            for actions in mdp.get_actions(state):\n",
    "                next_state,reward,prob=mdp.get_state_transition(state,actions)\n",
    "                V_t1[state]+=prob*(reward+gamma*V[next_state])\n",
    "            delta=max(delta,abs(V_t1[state]-V[state]))\n",
    "        delta_values.append(delta)\n",
    "        V=V_t1\n",
    "        if(delta<theta):\n",
    "            break\n",
    "    plotting.plot_values(delta_values,\"step-updating\")\n",
    "    return V\n",
    "\n",
    "V=policy_eval_two_arrays()\n",
    "a=np.append(V,0)\n",
    "a.reshape(4,4)\n"
   ]
  },
  {
   "cell_type": "code",
   "execution_count": 2,
   "metadata": {},
   "outputs": [
    {
     "data": {
      "image/png": "[encoded data removed]",
      "text/plain": [
       "<matplotlib.figure.Figure at 0x7f3ce44bd668>"
      ]
     },
     "metadata": {},
     "output_type": "display_data"
    },
    {
     "data": {
      "text/plain": [
       "array([[ 0.        , -5.14243722, -7.17483689, -7.74357853],\n",
       "       [-5.12451978, -7.20683545, -7.38528728, -7.31194749],\n",
       "       [-7.11303016, -7.31599967, -6.6866908 , -5.61349498],\n",
       "       [-7.61768368, -7.06570676, -4.96026827,  0.        ]])"
      ]
     },
     "execution_count": 2,
     "metadata": {},
     "output_type": "execute_result"
    }
   ],
   "source": [
    "def inline_updates():\n",
    "    state_count=mdp.get_state_count()\n",
    "    gamma=0.9\n",
    "    theta=0.001 ##minimum value of delta\n",
    "    delta_values=[]\n",
    "    V = state_count*[0]\n",
    "    while(True):\n",
    "        delta=0\n",
    "        for state in range(state_count):\n",
    "            v=0;\n",
    "            for actions in mdp.get_actions(state):\n",
    "                next_state,reward,prob=mdp.get_state_transition(state,actions)\n",
    "                v+=prob*(reward+gamma*V[next_state])\n",
    "            delta=max(delta,abs(V[state]-v))\n",
    "            V[state]=v\n",
    "        delta_values.append(delta,)\n",
    "\n",
    "        if(delta<theta):\n",
    "            break\n",
    "    plotting.plot_values(delta_values,\"Inline\")\n",
    "    return V\n",
    "\n",
    "V=inline_updates()\n",
    "a=np.append(V,0)\n",
    "a.reshape(4,4)"
   ]
  },
  {
   "cell_type": "markdown",
   "metadata": {},
   "source": [
    "As shown In place updating converges quite faster than Two arrays update"
   ]
  },
  {
   "cell_type": "code",
   "execution_count": 3,
   "metadata": {},
   "outputs": [
    {
     "name": "stdout",
     "output_type": "stream",
     "text": [
      "Following Policy Iteration Method\n",
      "Count:11\n",
      "\n",
      "[[ 0.       0.      -0.25    -0.30625]\n",
      " [ 0.      -0.25    -0.30625 -0.25   ]\n",
      " [-0.25    -0.30625 -0.25     0.     ]\n",
      " [-0.30625 -0.25     0.       0.     ]]\n",
      "[['up' 'left' 'left' 'down']\n",
      " ['up' 'up' 'up' 'down']\n",
      " ['up' 'up' 'down' 'down']\n",
      " ['up' 'right' 'right' 'down']]\n",
      "\n",
      "Following Value Iteration\n",
      "Count:3\n",
      "\n",
      "[[ 0.       0.      -0.25    -0.30625]\n",
      " [ 0.      -0.25    -0.30625 -0.25   ]\n",
      " [-0.25    -0.30625 -0.25     0.     ]\n",
      " [-0.30625 -0.25     0.       0.     ]]\n",
      "[['up' 'left' 'left' 'down']\n",
      " ['up' 'up' 'up' 'down']\n",
      " ['up' 'up' 'down' 'down']\n",
      " ['up' 'right' 'right' 'down']]\n"
     ]
    }
   ],
   "source": [
    "\n",
    "def policy_iteration():\n",
    "    state_count=mdp.get_state_count()\n",
    "    gamma=0.9\n",
    "    theta=0.001\n",
    "    V=state_count*[0]\n",
    "    pi=state_count*[0]\n",
    "    cnt=0;\n",
    "    for state in range(state_count):\n",
    "        pi[state]=np.random.choice(mdp.get_actions(state))\n",
    "    unstable=True\n",
    "\n",
    "    while(unstable):\n",
    "\n",
    "        while(True):\n",
    "            cnt+=1\n",
    "            delta=0\n",
    "            for state in range(state_count):\n",
    "                next_state,reward,prob=mdp.get_state_transition(state,pi[state])\n",
    "                v=prob*(reward+gamma*V[next_state])\n",
    "                delta=max(delta,abs(V[state]-v))\n",
    "                V[state]=v\n",
    "\n",
    "            if(delta<theta):\n",
    "                break\n",
    "        unstable=False\n",
    "\n",
    "        for state in range(state_count):\n",
    "            value_functio=[]\n",
    "            for actions in mdp.get_actions(state):\n",
    "                next_state,reward,prob=mdp.get_state_transition(state,actions)\n",
    "                value_functio.append(prob*(reward+gamma*V[next_state]))\n",
    "            next_optimal_action=mdp.get_actions(state)[np.argmax(value_functio)]\n",
    "            if(next_optimal_action!=pi[state]):\n",
    "                unstable=True\n",
    "            pi[state]=next_optimal_action\n",
    "\n",
    "\n",
    "    return V,pi,cnt\n",
    "\n",
    "def value_iteration():\n",
    "    state_count=mdp.get_state_count()\n",
    "    gamma=0.9\n",
    "    theta=0.001\n",
    "    V=state_count*[0]\n",
    "    pi=state_count*[0]\n",
    "    cnt=0\n",
    "    while(True):\n",
    "        delta=0\n",
    "        cnt+=1\n",
    "        for state in range(state_count):\n",
    "            v=[]\n",
    "            for actions in mdp.get_actions(state):\n",
    "                next_state,reward,prob=mdp.get_state_transition(state,actions)\n",
    "                v.append(prob*(reward+gamma*V[next_state]))\n",
    "            most_optimal=np.amax(v,axis=0)\n",
    "            delta=max(delta,abs(most_optimal-V[state]))\n",
    "            V[state]=most_optimal\n",
    "        if delta<theta:\n",
    "            break\n",
    "    for state in range(state_count):\n",
    "        value_functio=[]\n",
    "        for actions in mdp.get_actions(state):\n",
    "            next_state,reward,prob=mdp.get_state_transition(state,actions)\n",
    "            value_functio.append(prob*(reward+gamma*V[next_state]))\n",
    "        optimal_action=mdp.get_actions(state)[np.argmax(value_functio)]\n",
    "        pi[state]=optimal_action\n",
    "    return V,pi,cnt\n",
    "\n",
    "def main():\n",
    "    V,pi,cnt=policy_iteration()\n",
    "    print(\"Following Policy Iteration Method\\nCount:%s\\n\"%(cnt))\n",
    "    print(np.append(V,0).reshape(4,4))\n",
    "    print(np.append(pi,\"down\").reshape(4,4))\n",
    "    V,pi,cnt=value_iteration()\n",
    "    print(\"\\nFollowing Value Iteration\\nCount:%s\\n\"%(cnt))\n",
    "    print(np.append(V,0).reshape(4,4))\n",
    "    print(np.append(pi,\"down\").reshape(4,4))\n",
    "\n",
    "if __name__==\"__main__\":\n",
    "    main()\n"
   ]
  },
  {
   "cell_type": "markdown",
   "metadata": {},
   "source": [
    "As seen at each state the most optimal poilicy is towards maximizing the value function"
   ]
  }
 ],
 "metadata": {
  "kernelspec": {
   "display_name": "Python 3",
   "language": "python",
   "name": "python3"
  },
  "language_info": {
   "codemirror_mode": {
    "name": "ipython",
    "version": 3
   },
   "file_extension": ".py",
   "mimetype": "text/x-python",
   "name": "python",
   "nbconvert_exporter": "python",
   "pygments_lexer": "ipython3",
   "version": "3.6.3"
  }
 },
 "nbformat": 4,
 "nbformat_minor": 2
}
