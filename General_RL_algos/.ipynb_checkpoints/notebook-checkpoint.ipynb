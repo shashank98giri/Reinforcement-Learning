{
 "cells": [
  {
   "cell_type": "code",
   "execution_count": 1,
   "metadata": {},
   "outputs": [
    {
     "data": {
      "image/png": "[encoded data removed]",
      "text/plain": [
       "<matplotlib.figure.Figure at 0x7f5a3c65e860>"
      ]
     },
     "metadata": {},
     "output_type": "display_data"
    },
    {
     "data": {
      "text/plain": [
       "array([[ 0.        , -5.1411674 , -7.17285987, -7.7413128 ],\n",
       "       [-5.12321528, -7.20448809, -7.3827336 , -7.30937349],\n",
       "       [-7.11098526, -7.31342516, -6.68419683, -5.61145717],\n",
       "       [-7.61533761, -7.06312063, -4.95830354,  0.        ]])"
      ]
     },
     "execution_count": 1,
     "metadata": {},
     "output_type": "execute_result"
    }
   ],
   "source": [
    "import mdp\n",
    "import numpy as np\n",
    "import plotting\n",
    "\n",
    "def policy_eval_two_arrays():\n",
    "    state_count=mdp.get_state_count()\n",
    "    gamma=0.9\n",
    "    theta=0.001 ##minimum value of delta\n",
    "    delta_values=[]\n",
    "    V = state_count*[0]\n",
    "    while(True):\n",
    "        delta=0\n",
    "        V_t1=state_count*[0]\n",
    "        for state in range(state_count):\n",
    "            for actions in mdp.get_actions(state):\n",
    "                next_state,reward,prob=mdp.get_state_transition(state,actions)\n",
    "                V_t1[state]+=prob*(reward+gamma*V[next_state])\n",
    "            delta=max(delta,abs(V_t1[state]-V[state]))\n",
    "        delta_values.append(delta)\n",
    "        V=V_t1\n",
    "        if(delta<theta):\n",
    "            break\n",
    "    plotting.plot_values(delta_values,\"step-updating\")\n",
    "    return V\n",
    "\n",
    "V=policy_eval_two_arrays()\n",
    "a=np.append(V,0)\n",
    "a.reshape(4,4)\n"
   ]
  },
  {
   "cell_type": "code",
   "execution_count": 3,
   "metadata": {},
   "outputs": [
    {
     "name": "stderr",
     "output_type": "stream",
     "text": [
      "/home/shashank98/anaconda3/lib/python3.6/site-packages/matplotlib/ticker.py:1918: RuntimeWarning: overflow encountered in multiply\n",
      "  steps = self._extended_steps * scale\n"
     ]
    },
    {
     "data": {
      "image/png": "[encoded data removed]",
      "text/plain": [
       "<matplotlib.figure.Figure at 0x7f5a207fcac8>"
      ]
     },
     "metadata": {},
     "output_type": "display_data"
    },
    {
     "data": {
      "text/plain": [
       "array([[  0., -inf, -inf, -inf],\n",
       "       [-inf, -inf, -inf, -inf],\n",
       "       [-inf, -inf, -inf, -inf],\n",
       "       [-inf, -inf, -inf,   0.]])"
      ]
     },
     "execution_count": 3,
     "metadata": {},
     "output_type": "execute_result"
    }
   ],
   "source": [
    "def inline_updates():\n",
    "    state_count=mdp.get_state_count()\n",
    "    gamma=0.9\n",
    "    theta=0.001 ##minimum value of delta\n",
    "    delta_values=[]\n",
    "    V = state_count*[0]\n",
    "    while(True):\n",
    "        delta=0\n",
    "        for state in range(state_count):\n",
    "            v=V[state]\n",
    "            V[state]=0\n",
    "            for actions in mdp.get_actions(state):\n",
    "                next_state,reward,prob=mdp.get_state_transition(state,actions)\n",
    "                V[state]+=prob*(reward+gamma*V[next_state])\n",
    "            delta=max(delta,abs(V[state]-v))\n",
    "        delta_values.append(delta)\n",
    "\n",
    "        if(delta<theta):\n",
    "            break\n",
    "    plotting.plot_values(delta_values,title=\"inline\")\n",
    "    return V\n",
    "\n",
    "V=inline_updates()\n",
    "a=np.append(V,0)\n",
    "a.reshape(4,4)"
   ]
  }
 ],
 "metadata": {
  "kernelspec": {
   "display_name": "Python 3",
   "language": "python",
   "name": "python3"
  },
  "language_info": {
   "codemirror_mode": {
    "name": "ipython",
    "version": 3
   },
   "file_extension": ".py",
   "mimetype": "text/x-python",
   "name": "python",
   "nbconvert_exporter": "python",
   "pygments_lexer": "ipython3",
   "version": "3.6.3"
  }
 },
 "nbformat": 4,
 "nbformat_minor": 2
}
