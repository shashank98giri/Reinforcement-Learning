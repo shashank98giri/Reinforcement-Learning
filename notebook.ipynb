{
 "cells": [
  {
   "cell_type": "code",
   "execution_count": 1,
   "metadata": {
    "collapsed": true
   },
   "outputs": [],
   "source": [
    "import numpy as np\n",
    "import sys\n",
    "from setup.bandits import Environment\n",
    "from setup.testing import Test\n",
    "\n",
    "\n",
    "class Policy(object):\n",
    "    def __init__(self,actions):\n",
    "        self.num_actions=actions\n",
    "    def act(self):\n",
    "        pass\n",
    "    def feedback(self,action,reward):\n",
    "        pass\n",
    "\n"
   ]
  },
  {
   "cell_type": "markdown",
   "metadata": {},
   "source": [
    "## Greedy"
   ]
  },
  {
   "cell_type": "code",
   "execution_count": 2,
   "metadata": {
    "collapsed": true
   },
   "outputs": [],
   "source": [
    "class Greedy(Policy):\n",
    "    def __init__(self,actions,**kwargs):\n",
    "        super().__init__(actions)\n",
    "        self.total_counts=np.zeros(self.num_actions)\n",
    "        self.name=\"Greedy\"\n",
    "        self.total_reward=np.zeros(self.num_actions)\n",
    "    def act(self):\n",
    "        current_track=np.divide(self.total_reward,self.total_counts,where=self.total_counts>0)\n",
    "        current_track[self.total_counts==0]=0\n",
    "        taken_action=np.argmax(current_track)\n",
    "        return taken_action\n",
    "    def feedback(self,action,reward):\n",
    "        self.total_reward[action]+=reward\n",
    "        self.total_counts[action]+=1\n"
   ]
  },
  {
   "cell_type": "code",
   "execution_count": 3,
   "metadata": {},
   "outputs": [
    {
     "name": "stdout",
     "output_type": "stream",
     "text": [
      "Distribution: Bernoulli\n",
      "Rewards [0.44873522 0.28353771 0.62566496 0.49560654 0.33753382 0.57348535\n",
      " 0.26063078 0.99474795 0.56935494 0.0912191 ]\n",
      " most optimal reward 7\n"
     ]
    },
    {
     "data": {
      "image/png": "[encoded data removed]",
      "text/plain": [
       "<matplotlib.figure.Figure at 0x7efced489ef0>"
      ]
     },
     "metadata": {},
     "output_type": "display_data"
    },
    {
     "name": "stdout",
     "output_type": "stream",
     "text": [
      "---------------------------------------------------------\n",
      "Policy Greedy\n",
      " Arms pull [1000.    0.    0.    0.    0.    0.    0.    0.    0.    0.]\n",
      " max arm pull:0\n"
     ]
    },
    {
     "name": "stderr",
     "output_type": "stream",
     "text": [
      "/home/shashank98/anaconda3/lib/python3.6/site-packages/matplotlib/figure.py:1156: UserWarning: sharex argument to subplots() was an integer. Did you intend to use subplot() (without 's')?\n",
      "  \"sharex argument to subplots() was an integer. \"\n"
     ]
    },
    {
     "ename": "ValueError",
     "evalue": "sharex [1] must be one of ['all', 'row', 'col', 'none']",
     "output_type": "error",
     "traceback": [
      "\u001b[0;31m---------------------------------------------------------------------------\u001b[0m",
      "\u001b[0;31mValueError\u001b[0m                                Traceback (most recent call last)",
      "\u001b[0;32m<ipython-input-3-7adb2a0e520a>\u001b[0m in \u001b[0;36m<module>\u001b[0;34m()\u001b[0m\n\u001b[1;32m      5\u001b[0m \u001b[0magent\u001b[0m\u001b[0;34m=\u001b[0m\u001b[0mGreedy\u001b[0m\u001b[0;34m(\u001b[0m\u001b[0mnum_actions\u001b[0m\u001b[0;34m)\u001b[0m\u001b[0;34m\u001b[0m\u001b[0m\n\u001b[1;32m      6\u001b[0m \u001b[0mtest\u001b[0m\u001b[0;34m=\u001b[0m\u001b[0mTest\u001b[0m\u001b[0;34m(\u001b[0m\u001b[0menv\u001b[0m\u001b[0;34m,\u001b[0m\u001b[0magent\u001b[0m\u001b[0;34m)\u001b[0m\u001b[0;34m\u001b[0m\u001b[0m\n\u001b[0;32m----> 7\u001b[0;31m \u001b[0mtest\u001b[0m\u001b[0;34m.\u001b[0m\u001b[0mrun_bandit\u001b[0m\u001b[0;34m(\u001b[0m\u001b[0mtrials\u001b[0m\u001b[0;34m)\u001b[0m\u001b[0;34m\u001b[0m\u001b[0m\n\u001b[0m",
      "\u001b[0;32m~/Desktop/Reinforcement_Learning/Bandit_algorithms/setup/testing.py\u001b[0m in \u001b[0;36mrun_bandit\u001b[0;34m(self, trials, display_frequency)\u001b[0m\n\u001b[1;32m     38\u001b[0m         print(\"Policy {}\\n Arms pull {}\\n max arm pull:{}\".format(self.agent.name,self.agent.total_counts,\n\u001b[1;32m     39\u001b[0m                 np.argmax(self.agent.total_counts)),flush=True)\n\u001b[0;32m---> 40\u001b[0;31m         \u001b[0mplotting\u001b[0m\u001b[0;34m.\u001b[0m\u001b[0mplt_estimate\u001b[0m\u001b[0;34m(\u001b[0m\u001b[0mstats\u001b[0m\u001b[0;34m)\u001b[0m\u001b[0;34m\u001b[0m\u001b[0m\n\u001b[0m",
      "\u001b[0;32m~/Desktop/Reinforcement_Learning/Bandit_algorithms/setup/plotting.py\u001b[0m in \u001b[0;36mplt_estimate\u001b[0;34m(stats, hide)\u001b[0m\n\u001b[1;32m     17\u001b[0m \u001b[0;32mdef\u001b[0m \u001b[0mplt_estimate\u001b[0m\u001b[0;34m(\u001b[0m\u001b[0mstats\u001b[0m\u001b[0;34m,\u001b[0m\u001b[0mhide\u001b[0m\u001b[0;34m=\u001b[0m\u001b[0;32mFalse\u001b[0m\u001b[0;34m)\u001b[0m\u001b[0;34m:\u001b[0m\u001b[0;34m\u001b[0m\u001b[0m\n\u001b[1;32m     18\u001b[0m     \u001b[0;31m#plt.figure(figsize=(10,10))\u001b[0m\u001b[0;34m\u001b[0m\u001b[0;34m\u001b[0m\u001b[0m\n\u001b[0;32m---> 19\u001b[0;31m     \u001b[0mfig1\u001b[0m\u001b[0;34m=\u001b[0m\u001b[0mplt\u001b[0m\u001b[0;34m.\u001b[0m\u001b[0msubplots\u001b[0m\u001b[0;34m(\u001b[0m\u001b[0;36m2\u001b[0m\u001b[0;34m,\u001b[0m\u001b[0;36m1\u001b[0m\u001b[0;34m,\u001b[0m\u001b[0;36m1\u001b[0m\u001b[0;34m)\u001b[0m\u001b[0;34m\u001b[0m\u001b[0m\n\u001b[0m\u001b[1;32m     20\u001b[0m     \u001b[0mplt\u001b[0m\u001b[0;34m.\u001b[0m\u001b[0mplot\u001b[0m\u001b[0;34m(\u001b[0m\u001b[0mstats\u001b[0m\u001b[0;34m.\u001b[0m\u001b[0mcumulative_reward\u001b[0m\u001b[0;34m)\u001b[0m\u001b[0;34m\u001b[0m\u001b[0m\n\u001b[1;32m     21\u001b[0m     \u001b[0mplt\u001b[0m\u001b[0;34m.\u001b[0m\u001b[0mxlabel\u001b[0m\u001b[0;34m(\u001b[0m\u001b[0;34m\"Timestep\"\u001b[0m\u001b[0;34m)\u001b[0m\u001b[0;34m\u001b[0m\u001b[0m\n",
      "\u001b[0;32m~/anaconda3/lib/python3.6/site-packages/matplotlib/pyplot.py\u001b[0m in \u001b[0;36msubplots\u001b[0;34m(nrows, ncols, sharex, sharey, squeeze, subplot_kw, gridspec_kw, **fig_kw)\u001b[0m\n\u001b[1;32m   1180\u001b[0m     axs = fig.subplots(nrows=nrows, ncols=ncols, sharex=sharex, sharey=sharey,\n\u001b[1;32m   1181\u001b[0m                        \u001b[0msqueeze\u001b[0m\u001b[0;34m=\u001b[0m\u001b[0msqueeze\u001b[0m\u001b[0;34m,\u001b[0m \u001b[0msubplot_kw\u001b[0m\u001b[0;34m=\u001b[0m\u001b[0msubplot_kw\u001b[0m\u001b[0;34m,\u001b[0m\u001b[0;34m\u001b[0m\u001b[0m\n\u001b[0;32m-> 1182\u001b[0;31m                        gridspec_kw=gridspec_kw)\n\u001b[0m\u001b[1;32m   1183\u001b[0m     \u001b[0;32mreturn\u001b[0m \u001b[0mfig\u001b[0m\u001b[0;34m,\u001b[0m \u001b[0maxs\u001b[0m\u001b[0;34m\u001b[0m\u001b[0m\n\u001b[1;32m   1184\u001b[0m \u001b[0;34m\u001b[0m\u001b[0m\n",
      "\u001b[0;32m~/anaconda3/lib/python3.6/site-packages/matplotlib/figure.py\u001b[0m in \u001b[0;36msubplots\u001b[0;34m(self, nrows, ncols, sharex, sharey, squeeze, subplot_kw, gridspec_kw)\u001b[0m\n\u001b[1;32m   1158\u001b[0m \u001b[0;34m\u001b[0m\u001b[0m\n\u001b[1;32m   1159\u001b[0m             raise ValueError(\"sharex [%s] must be one of %s\" %\n\u001b[0;32m-> 1160\u001b[0;31m                              (sharex, share_values))\n\u001b[0m\u001b[1;32m   1161\u001b[0m         \u001b[0;32mif\u001b[0m \u001b[0msharey\u001b[0m \u001b[0;32mnot\u001b[0m \u001b[0;32min\u001b[0m \u001b[0mshare_values\u001b[0m\u001b[0;34m:\u001b[0m\u001b[0;34m\u001b[0m\u001b[0m\n\u001b[1;32m   1162\u001b[0m             raise ValueError(\"sharey [%s] must be one of %s\" %\n",
      "\u001b[0;31mValueError\u001b[0m: sharex [1] must be one of ['all', 'row', 'col', 'none']"
     ]
    }
   ],
   "source": [
    "\n",
    "num_actions=10\n",
    "trials=1000\n",
    "env=Environment(num_actions)\n",
    "agent=Greedy(num_actions)\n",
    "test=Test(env,agent)\n",
    "test.run_bandit(trials)"
   ]
  },
  {
   "cell_type": "markdown",
   "metadata": {},
   "source": [
    "In greedy approach we take the arm with highest expected arm reward.\n",
    "r<sub>a</sub> =E[r|a]\n",
    "\n",
    "Choose the arm having max value of r<sub>a</sub> over all the arms\n",
    "\n",
    "But it has a disadvantage that greedy might lock down into a suboptimal arm and never comes back from it."
   ]
  },
  {
   "cell_type": "markdown",
   "metadata": {},
   "source": [
    "## Epsilon Greedy"
   ]
  },
  {
   "cell_type": "code",
   "execution_count": null,
   "metadata": {},
   "outputs": [],
   "source": [
    "class EpsilonGreedy(Greedy):\n",
    "    def __init__(self,num_actions,epsilon=0.5,**kwargs):\n",
    "        super().__init__(num_actions)\n",
    "        self.name=\"EpsilonGreedy\"\n",
    "        self.epsilon=epsilon\n",
    "        if(epsilon > 1 or epsilon<0):\n",
    "            print(\"Epsilon should be between 0 and 1\",flush=True)\n",
    "            sys.exit(0)\n",
    "    def act(self):\n",
    "        choice=np.random.binomial(1,self.epsilon)\n",
    "        if(choice==1):\n",
    "            return np.random.choice(self.num_actions)\n",
    "        else:\n",
    "            return super().act()\n",
    "            \n",
    "\n",
    "num_actions=10\n",
    "trials=1000\n",
    "env=Environment(num_actions)\n",
    "agent=EpsilonGreedy(num_actions)\n",
    "test=Test(env,agent)\n",
    "test.run_bandit(trials)"
   ]
  }
 ],
 "metadata": {
  "kernelspec": {
   "display_name": "Python 3",
   "language": "python",
   "name": "python3"
  },
  "language_info": {
   "codemirror_mode": {
    "name": "ipython",
    "version": 3
   },
   "file_extension": ".py",
   "mimetype": "text/x-python",
   "name": "python",
   "nbconvert_exporter": "python",
   "pygments_lexer": "ipython3",
   "version": "3.6.3"
  }
 },
 "nbformat": 4,
 "nbformat_minor": 2
}
