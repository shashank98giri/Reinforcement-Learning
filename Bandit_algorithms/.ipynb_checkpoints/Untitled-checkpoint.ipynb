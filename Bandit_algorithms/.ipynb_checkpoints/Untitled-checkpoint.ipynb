{
 "cells": [
  {
   "cell_type": "code",
   "execution_count": null,
   "metadata": {
    "collapsed": true
   },
   "outputs": [],
   "source": [
    "import numpy as np\n",
    "import sys\n",
    "from setup.bandits import Environment\n",
    "from setup.testing import Test\n",
    "\n",
    "\n",
    "class Policy(object):\n",
    "    def __init__(self,actions):\n",
    "        self.num_actions=actions\n",
    "    def act(self):\n",
    "        pass\n",
    "    def feedback(self,action,reward):\n",
    "        pass\n",
    "\n",
    "class Greedy(Policy):\n",
    "    def __init__(self,actions,**kwargs):\n",
    "        super().__init__(actions)\n",
    "        self.total_counts=np.zeros(self.num_actions)\n",
    "        self.name=\"Greedy\"\n",
    "        self.total_reward=np.zeros(self.num_actions)\n",
    "    def act(self):\n",
    "        current_track=np.divide(self.total_reward,self.total_counts,where=self.total_counts>0)\n",
    "        current_track[self.total_counts==0]=0\n",
    "        taken_action=np.argmax(current_track)\n",
    "        return taken_action\n",
    "    def feedback(self,action,reward):\n",
    "        self.total_reward[action]+=reward\n",
    "        self.total_counts[action]+=1\n"
   ]
  },
  {
   "cell_type": "code",
   "execution_count": null,
   "metadata": {},
   "outputs": [],
   "source": [
    "\n",
    "num_actions=5\n",
    "trials=1000\n",
    "env=Environment(num_actions)\n",
    "agent=Greedy(num_actions)\n",
    "test=Test(env,agent)\n",
    "test.run_bandit(trials)"
   ]
  },
  {
   "cell_type": "code",
   "execution_count": null,
   "metadata": {
    "collapsed": true
   },
   "outputs": [],
   "source": []
  }
 ],
 "metadata": {
  "kernelspec": {
   "display_name": "Python 3",
   "language": "python",
   "name": "python3"
  },
  "language_info": {
   "codemirror_mode": {
    "name": "ipython",
    "version": 3
   },
   "file_extension": ".py",
   "mimetype": "text/x-python",
   "name": "python",
   "nbconvert_exporter": "python",
   "pygments_lexer": "ipython3",
   "version": "3.6.3"
  }
 },
 "nbformat": 4,
 "nbformat_minor": 2
}
